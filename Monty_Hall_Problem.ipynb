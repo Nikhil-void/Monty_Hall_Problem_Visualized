{
 "cells": [
  {
   "cell_type": "markdown",
   "id": "92cfe6f1",
   "metadata": {},
   "source": [
    "## Visualizing Monty Hall Problem\n",
    "\n",
    "> To install ipywidgets refer the documentation https://ipywidgets.readthedocs.io/en/stable/user_install.html"
   ]
  },
  {
   "cell_type": "code",
   "execution_count": 1,
   "id": "1c7801eb",
   "metadata": {},
   "outputs": [],
   "source": [
    "from IPython.display import display, clear_output\n",
    "import ipywidgets as widgets\n",
    "from datetime import datetime, timedelta\n",
    "import ipywidgets as widgets\n",
    "import random\n",
    "import pandas as pd\n",
    "import seaborn as sns\n"
   ]
  },
  {
   "cell_type": "code",
   "execution_count": 2,
   "id": "678d83fa",
   "metadata": {},
   "outputs": [],
   "source": [
    "class Monty_Hall:\n",
    "    def __init__(self):\n",
    "        self.winner_door = random.randint(1,3)\n",
    "    \n",
    "    def door_selected(self, door):\n",
    "        l1 = [1,2,3]\n",
    "        l1.remove(door)\n",
    "        if self.winner_door in l1:\n",
    "            l1.remove(self.winner_door)\n",
    "        open_door = random.choice(l1)\n",
    "        return open_door\n",
    "    \n",
    "    def winner(self, door):\n",
    "        return door == self.winner_door\n",
    "        "
   ]
  },
  {
   "cell_type": "code",
   "execution_count": 3,
   "id": "47442537",
   "metadata": {},
   "outputs": [],
   "source": [
    "class Generator():\n",
    "    def __init__(self): \n",
    "        self.button1 = widgets.Button(description='Door 1')\n",
    "        self.button2 = widgets.Button(description='Door 2')\n",
    "        self.button3 = widgets.Button(description='Door 3')\n",
    "    \n",
    "    def get_buttons(self):\n",
    "        return [self.button1, self.button2, self.button3]\n",
    "\n",
    "    def remove_clicks(self):\n",
    "        for button in self.get_buttons():\n",
    "            button._click_handlers.callbacks = []\n",
    "\n",
    "    def get_button_number(self, button):\n",
    "        if button.description == \"Door 1\":\n",
    "            return 1\n",
    "        if button.description == \"Door 2\":\n",
    "            return 2\n",
    "        if button.description == \"Door 3\":\n",
    "            return 3\n",
    "\n",
    "    def generate_next_buttons(self, clicked, to_open):\n",
    "        current_buttons = self.get_buttons()\n",
    "        current_buttons[clicked] = widgets.Button(description='Door %s' % (clicked+1), icon=\"check\", button_style=\"info\")\n",
    "        for b in current_buttons:\n",
    "            b.on_click(self.on_phase2_clicked)\n",
    "        current_buttons[to_open] = widgets.Button(description='No prize Here!', icon=\"xmark\", button_style='warning', disabled=True)\n",
    "\n",
    "        return current_buttons\n",
    "    \n",
    "    def generate_last_buttons(self):\n",
    "        current_buttons = self.get_buttons()\n",
    "       \n",
    "        current_buttons[game.winner_door - 1] = widgets.Button(description='PRIZE', icon=\"gift\", button_style=\"success\")\n",
    "        current_buttons[self.opened-1] = widgets.Button(description='No prize Here', icon=\"thumbs-down\", button_style='warning', disabled=True)\n",
    "        b_l = [1,2,3]\n",
    "        b_l.remove(game.winner_door)\n",
    "        b_l.remove(self.opened)\n",
    "        current_buttons[b_l[0]-1] = widgets.Button(description='No prize Here', icon=\"thumbs-down\", button_style='danger', disabled=True)\n",
    "        return current_buttons\n",
    "    \n",
    "    def generate_display_2(self):\n",
    "        out.clear_output()\n",
    "        out.append_display_data(widgets.HTML(\"\"\"<p style=\"font-size:20px;font-weight: bold\">Good Guess!!</p>\"\"\"))\n",
    "        out.append_display_data(widgets.HTML(\"\"\"<p style=\"font-size:15px\">As I am feeling generous today </br></p>\n",
    "                                            <p style=\"font-size:15px;color:green;font-weight: bold\">I am going \n",
    "                                            to eliminate one of the doors with no prize</p> </br>\n",
    "                                            <p style=\"font-size:15px\">I am also giving you 2 choices: </br>\n",
    "                                            <b>1. Click again on your original guess and see if you were correct.</b></br>\n",
    "                                            <b>2. Change your answer and choose the other door.</b></p>\"\"\"))\n",
    "        display(out)\n",
    "\n",
    "\n",
    "    def on_phase1_clicked(self, b):\n",
    "        self.remove_clicks()\n",
    "        clicked = self.get_button_number(b)\n",
    "        self.opened = to_open = game.door_selected(clicked)\n",
    "        new_buttons = self.generate_next_buttons(clicked-1, to_open-1)\n",
    "        self.generate_display_2()\n",
    "        out.append_display_data(widgets.HBox(new_buttons))\n",
    "    \n",
    "    def generate_winner(self):\n",
    "        out.clear_output()\n",
    "        out.append_display_data(widgets.HTML(\"\"\"<p style=\"font-size:20px; font-weight: bold; color: green\">\n",
    "                                                Congratulations!!</p>\"\"\"))\n",
    "        out.append_display_data(widgets.HTML(\"\"\"<p style=\"font-size:15px; color: green\">\n",
    "                                                You have selected the winning door and won the Great Prize</p>\"\"\"))\n",
    "    \n",
    "    def generate_hard_luck(self):\n",
    "        out.clear_output()\n",
    "        out.append_display_data(widgets.HTML(\"\"\"<p style=\"font-size:20px; font-weight: bold; color: Red\">\n",
    "                                                Hard Luck :( </p>\"\"\"))\n",
    "        out.append_display_data(widgets.HTML(\"\"\"<p style=\"font-size:15px; color: red\">\n",
    "                                                You have selected the wrong door, Please try again later</p>\"\"\"))\n",
    "        \n",
    "    \n",
    "    def on_phase2_clicked(self, b):\n",
    "        self.remove_clicks()\n",
    "        clicked = self.get_button_number(b)\n",
    "        win = game.winner(clicked)\n",
    "        if win:\n",
    "            self.generate_winner()\n",
    "        else:\n",
    "            self.generate_hard_luck()\n",
    "        new_b = self.generate_last_buttons()\n",
    "        out.append_display_data(widgets.HBox(new_b))\n",
    "    "
   ]
  },
  {
   "cell_type": "code",
   "execution_count": 4,
   "id": "6679e698",
   "metadata": {},
   "outputs": [],
   "source": [
    "out = widgets.Output() \n",
    "game = Monty_Hall()\n",
    "gen = Generator()"
   ]
  },
  {
   "cell_type": "code",
   "execution_count": 5,
   "id": "573fdf93",
   "metadata": {},
   "outputs": [],
   "source": [
    "def run_interactive():\n",
    "    out = widgets.Output() \n",
    "    game = Monty_Hall()\n",
    "    gen = Generator()\n",
    "    out.append_display_data(widgets.HTML(\"\"\"<p style=\"font-size:25px;font-weight: bold\">Welcome to Monty Hall Door Problem</p>\"\"\"))\n",
    "    out.append_display_data(widgets.HTML(\"\"\"<p style=\"font-size:15px;\">Behind one of these doors is a Great Prize</br>Can you\n",
    "                                            choose the correct door?</p>\"\"\"))\n",
    "\n",
    "    #out.append_stdout(str(game.winner_door))\n",
    "    display(out)\n",
    "\n",
    "\n",
    "\n",
    "    buttons = gen.get_buttons()\n",
    "    for b in buttons:\n",
    "        b.on_click(gen.on_phase1_clicked)\n",
    "\n",
    "    display(widgets.HBox(buttons))"
   ]
  },
  {
   "cell_type": "code",
   "execution_count": 6,
   "id": "5f189071",
   "metadata": {},
   "outputs": [],
   "source": [
    "def run_automated(n):\n",
    "    op = []\n",
    "    for i in range(n):\n",
    "        game = Monty_Hall()\n",
    "        options = [1,2,3]\n",
    "        selected = random.choice(options)\n",
    "        opened = game.door_selected(selected)\n",
    "        options.remove(opened)\n",
    "        final = random.choice(options)\n",
    "        #print(options, \"Selected \", selected, \" Opened: \", opened, \" Final: \",  final, \" Prize Door: \", game.winner_door)\n",
    "        s = \"Switched\"\n",
    "        if final == selected:\n",
    "            s = \"Not Switched\"\n",
    "        win = \"Lost\"\n",
    "        if game.winner(final):\n",
    "            win = \"Won\"\n",
    "        #print(s, win)\n",
    "        op.append([s, win])\n",
    "\n",
    "\n",
    "    df = pd.DataFrame(op, columns=[\"Decision\", \"Result\"])\n",
    "    sns.countplot(data=df, x=\"Decision\", hue=\"Result\")\n",
    "    switched, not_switched = df[\"Decision\"].value_counts()\n",
    "    print(\"Total number of iterations = %s \\nDecision(Switched) = %s \\nDecision(Not Switched) = %s\" % (n, switched, not_switched))\n",
    "    print()\n",
    "    print(\"Decision(Switched) & Result(Won) = %s\" % df[(df[\"Decision\"] == \"Switched\") & (df[\"Result\"] == \"Won\")].value_counts()[0])\n",
    "    print(\"Decision(Not Switched) & Result(Lost) = %s\" % df[(df[\"Decision\"] == \"Not Switched\") & (df[\"Result\"] == \"Lost\")].value_counts()[0])"
   ]
  },
  {
   "cell_type": "code",
   "execution_count": 7,
   "id": "cffdeba5",
   "metadata": {},
   "outputs": [
    {
     "data": {
      "application/vnd.jupyter.widget-view+json": {
       "model_id": "b9e94d96a49a471fb654fd687e96e9fb",
       "version_major": 2,
       "version_minor": 0
      },
      "text/plain": [
       "HTML(value='<p style=\"font-size:25px;font-weight: bold\">Welcome to Monty Hall Door Problem</p>')"
      ]
     },
     "metadata": {},
     "output_type": "display_data"
    },
    {
     "data": {
      "application/vnd.jupyter.widget-view+json": {
       "model_id": "d6b3e6b7f53140dc9e5a7da97426970d",
       "version_major": 2,
       "version_minor": 0
      },
      "text/plain": [
       "HTML(value='<p style=\"font-size:15px;\">Behind one of these doors is a Great Prize</br>Can you\\n               …"
      ]
     },
     "metadata": {},
     "output_type": "display_data"
    },
    {
     "data": {
      "application/vnd.jupyter.widget-view+json": {
       "model_id": "e8ef8f09813749839ce40ab6ad50b2a8",
       "version_major": 2,
       "version_minor": 0
      },
      "text/plain": [
       "Output(outputs=({'output_type': 'display_data', 'data': {}, 'metadata': {}}, {'output_type': 'display_data', '…"
      ]
     },
     "metadata": {},
     "output_type": "display_data"
    },
    {
     "data": {
      "application/vnd.jupyter.widget-view+json": {
       "model_id": "f0924ed4fdee4eb5ba919b23d8db9914",
       "version_major": 2,
       "version_minor": 0
      },
      "text/plain": [
       "HBox(children=(Button(description='Door 1', style=ButtonStyle()), Button(description='Door 2', style=ButtonSty…"
      ]
     },
     "metadata": {},
     "output_type": "display_data"
    },
    {
     "data": {
      "application/vnd.jupyter.widget-view+json": {
       "model_id": "6a45c85a54ae4a0bb6d740df8b825831",
       "version_major": 2,
       "version_minor": 0
      },
      "text/plain": [
       "HTML(value='<p style=\"font-size:20px;font-weight: bold\">Good Guess!!</p>')"
      ]
     },
     "metadata": {},
     "output_type": "display_data"
    },
    {
     "data": {
      "application/vnd.jupyter.widget-view+json": {
       "model_id": "bd91aa0c8d094b038540871aa9329ed6",
       "version_major": 2,
       "version_minor": 0
      },
      "text/plain": [
       "HTML(value='<p style=\"font-size:15px\">As I am feeling generous today </br></p>\\n                              …"
      ]
     },
     "metadata": {},
     "output_type": "display_data"
    },
    {
     "data": {
      "application/vnd.jupyter.widget-view+json": {
       "model_id": "36546e28bf0d48c18ee818164ee1b4e2",
       "version_major": 2,
       "version_minor": 0
      },
      "text/plain": [
       "Output(outputs=({'output_type': 'display_data', 'data': {}, 'metadata': {}}, {'output_type': 'display_data', '…"
      ]
     },
     "metadata": {},
     "output_type": "display_data"
    },
    {
     "data": {
      "application/vnd.jupyter.widget-view+json": {
       "model_id": "c8fcccd7b45746bbb297be29d41ebf99",
       "version_major": 2,
       "version_minor": 0
      },
      "text/plain": [
       "HBox(children=(Button(button_style='info', description='Door 1', icon='check', style=ButtonStyle()), Button(de…"
      ]
     },
     "metadata": {},
     "output_type": "display_data"
    },
    {
     "data": {
      "application/vnd.jupyter.widget-view+json": {
       "model_id": "3b8e529fcf7541399b053ecd2f3a4e3e",
       "version_major": 2,
       "version_minor": 0
      },
      "text/plain": [
       "HTML(value='<p style=\"font-size:20px; font-weight: bold; color: Red\">\\n                                       …"
      ]
     },
     "metadata": {},
     "output_type": "display_data"
    },
    {
     "data": {
      "application/vnd.jupyter.widget-view+json": {
       "model_id": "ff86d26b355c40f4bd9841c0989d0d4a",
       "version_major": 2,
       "version_minor": 0
      },
      "text/plain": [
       "HTML(value='<p style=\"font-size:15px; color: red\">\\n                                                You have s…"
      ]
     },
     "metadata": {},
     "output_type": "display_data"
    },
    {
     "data": {
      "application/vnd.jupyter.widget-view+json": {
       "model_id": "900b22577db54062988815659f0930de",
       "version_major": 2,
       "version_minor": 0
      },
      "text/plain": [
       "HBox(children=(Button(button_style='danger', description='No prize Here', disabled=True, icon='thumbs-down', s…"
      ]
     },
     "metadata": {},
     "output_type": "display_data"
    }
   ],
   "source": [
    "run_interactive()"
   ]
  },
  {
   "cell_type": "code",
   "execution_count": 8,
   "id": "b7dc0f4d",
   "metadata": {},
   "outputs": [
    {
     "name": "stdout",
     "output_type": "stream",
     "text": [
      "Total number of iterations = 2000 \n",
      "Decision(Switched) = 1024 \n",
      "Decision(Not Switched) = 976\n",
      "\n",
      "Decision(Switched) & Result(Won) = 667\n",
      "Decision(Not Switched) & Result(Lost) = 627\n"
     ]
    },
    {
     "data": {
      "image/png": "[encoded data removed]",
      "text/plain": [
       "<Figure size 432x288 with 1 Axes>"
      ]
     },
     "metadata": {
      "needs_background": "light"
     },
     "output_type": "display_data"
    }
   ],
   "source": [
    "run_automated(2000)"
   ]
  },
  {
   "cell_type": "code",
   "execution_count": null,
   "id": "2e8fc9e7",
   "metadata": {},
   "outputs": [],
   "source": []
  }
 ],
 "metadata": {
  "kernelspec": {
   "display_name": "Python 3 (ipykernel)",
   "language": "python",
   "name": "python3"
  },
  "language_info": {
   "codemirror_mode": {
    "name": "ipython",
    "version": 3
   },
   "file_extension": ".py",
   "mimetype": "text/x-python",
   "name": "python",
   "nbconvert_exporter": "python",
   "pygments_lexer": "ipython3",
   "version": "3.9.7"
  }
 },
 "nbformat": 4,
 "nbformat_minor": 5
}
